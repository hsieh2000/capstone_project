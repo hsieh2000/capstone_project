{
 "cells": [
  {
   "cell_type": "code",
   "execution_count": 6,
   "id": "58b3d183",
   "metadata": {},
   "outputs": [],
   "source": [
    "import yaml\n",
    "import re\n",
    "\n",
    "with open(\"../data/face_model_2022-10-16_2.yml\", \"r\") as f:\n",
    "    x = f.read()\n",
    "with open(\"../data/face_model_2022-10-16_1.yml\", \"r\") as g:\n",
    "    y = g.read()\n"
   ]
  },
  {
   "cell_type": "code",
   "execution_count": 7,
   "id": "e5972ad9",
   "metadata": {},
   "outputs": [],
   "source": [
    "x_data = x.split(\"histograms:\")[1].split(\"\\n   labels: !!opencv-matrix\")[0]\n",
    "y_data = y.split('\\n   labels: !!opencv-matrix')[0]\n",
    "\n",
    "x_label = x.split(\"\\n   labels: !!opencv-matrix\")[1].split('data: [')[1].split(\"]\\n   labelsInfo:\\n\")[0]\n",
    "y_label =y.split('\\n   labels: !!opencv-matrix')[1].split(\"data: [\")[1].split(\" ]\\n   labelsInfo:\\n\")[0]\n",
    "\n",
    "new_data = y_data+x_data"
   ]
  },
  {
   "cell_type": "code",
   "execution_count": 8,
   "id": "e01c22ed",
   "metadata": {},
   "outputs": [],
   "source": [
    "regex = re.compile(\"\\d{1,2}\")\n",
    "x_label_amount = re.findall(regex, x_label)\n",
    "y_label_amount = re.findall(regex, y_label)\n",
    "\n",
    "new_label_amount =y_label_amount+x_label_amount"
   ]
  },
  {
   "cell_type": "code",
   "execution_count": 9,
   "id": "f0eaeea6",
   "metadata": {},
   "outputs": [],
   "source": [
    "label_tem ='\\n   labels: !!opencv-matrix\\n      rows: ddd\\n      cols: 1\\n      dt: i\\n      data: [xxx]\\n   labelsInfo:\\n      []\\n '\n",
    "label_tem = label_tem.replace('ddd',str(len(new_label_amount)))"
   ]
  },
  {
   "cell_type": "code",
   "execution_count": 19,
   "id": "08f3c2a2",
   "metadata": {},
   "outputs": [
    {
     "data": {
      "text/plain": [
       "'5'"
      ]
     },
     "execution_count": 19,
     "metadata": {},
     "output_type": "execute_result"
    }
   ],
   "source": [
    "sorted(list(set(new_label_amount)), reverse = False)[-1]"
   ]
  },
  {
   "cell_type": "code",
   "execution_count": 5,
   "id": "782a7432",
   "metadata": {},
   "outputs": [],
   "source": [
    "text=\"\"\n",
    "for i, j in enumerate(new_label_amount):\n",
    "    if (i+1)%20==0 and i+1!=len(new_label_amount):\n",
    "        text = text+f\" {j},\\n         \"\n",
    "\n",
    "    elif i+1 == len(new_label_amount):\n",
    "        text = text+f\" {j} \"\n",
    "\n",
    "    else:\n",
    "        text = text+f\" {j},\"\n",
    "\n",
    "new_label =label_tem.replace(\"xxx\", text)\n",
    "\n",
    "\n",
    "new = new_data+new_label\n",
    "with open(\"./face_model_new.yml\", \"w\") as g:\n",
    "    g.write(new)\n",
    "    "
   ]
  },
  {
   "cell_type": "code",
   "execution_count": 35,
   "id": "9d42ec10",
   "metadata": {},
   "outputs": [],
   "source": [
    "# with open(\"./text.txt\", \"w\") as text:\n",
    "#     for i, j in enumerate(new_label_amount):\n",
    "#         if (i+1)%20==0 and i+1!=len(new_label_amount):\n",
    "#             text.write(f\" {j},\\n         \")\n",
    "\n",
    "#         elif i+1 == len(new_label_amount):\n",
    "#             text.write(f\" {j} \")\n",
    "            \n",
    "#         else:\n",
    "#             text.write(f\" {j},\")\n",
    "            \n",
    "# with open(\"./text.txt\", \"r\") as text:\n",
    "#     a = text.read()\n",
    "#     new_label =label_tem.replace(\"xxx\", a)\n",
    "\n",
    "# new = new_data+new_label\n",
    "# with open(\"./face_model_new.yml\", \"w\") as g:\n",
    "#     g.write(new)\n",
    "    "
   ]
  },
  {
   "cell_type": "code",
   "execution_count": 53,
   "id": "fb39c6b1",
   "metadata": {},
   "outputs": [],
   "source": [
    "import json\n",
    "\n",
    "with open(\"../config.json\") as j:\n",
    "    config = json.load(j)\n",
    "    dict_ = config\n",
    "    dict_['len'] = 1\n",
    "    \n",
    "with open(\"../config.json\", 'w') as j:\n",
    "    j.write()"
   ]
  },
  {
   "cell_type": "code",
   "execution_count": 57,
   "id": "8cccebbf",
   "metadata": {},
   "outputs": [],
   "source": []
  },
  {
   "cell_type": "code",
   "execution_count": 58,
   "id": "714cd377",
   "metadata": {},
   "outputs": [
    {
     "data": {
      "text/plain": [
       "{'len': 1,\n",
       " 'main_data_path': '../data/face_model_2022-10-16_1.yml',\n",
       " 'new_data_path': '../data/face_model_2022-10-16_2.yml',\n",
       " 'export_path': './face_model_main.yml'}"
      ]
     },
     "execution_count": 58,
     "metadata": {},
     "output_type": "execute_result"
    }
   ],
   "source": [
    "dict_"
   ]
  },
  {
   "cell_type": "code",
   "execution_count": null,
   "id": "ea072aa5",
   "metadata": {},
   "outputs": [],
   "source": []
  }
 ],
 "metadata": {
  "kernelspec": {
   "display_name": "Python 3 (ipykernel)",
   "language": "python",
   "name": "python3"
  },
  "language_info": {
   "codemirror_mode": {
    "name": "ipython",
    "version": 3
   },
   "file_extension": ".py",
   "mimetype": "text/x-python",
   "name": "python",
   "nbconvert_exporter": "python",
   "pygments_lexer": "ipython3",
   "version": "3.9.12"
  },
  "vscode": {
   "interpreter": {
    "hash": "e2173b8da01242514057002758e061c0238ba0817d9ce6f6ce62271db7b94b78"
   }
  }
 },
 "nbformat": 4,
 "nbformat_minor": 5
}
